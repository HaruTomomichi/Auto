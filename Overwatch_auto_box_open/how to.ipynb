{
 "cells": [
  {
   "cell_type": "markdown",
   "metadata": {},
   "source": [
    "# - 오버워치 상자깡 프로그램을 만들어보자\n",
    "\n",
    "몇일 전에 오버워치를 같이 하던 도중<br>\n",
    "한 친구가 전리품 상자가 너무 많이 쌓였는데 일일히 까기 귀찮다고 말하더군요\n",
    "\n",
    "사실 저도 오버워치를 하다보면 50개정도 막 쌓이는데<br>\n",
    "일일히 까기가 싫어서 그냥 덩그러니 놔둔 채로 플레이할 때가 많습니다\n",
    "\n",
    "역시나 오늘도 간단하게 파이썬을 이용해서 상자깡을 편리하게 할 수 있는 프로그램을 작성해봅시다"
   ]
  },
  {
   "cell_type": "code",
   "execution_count": 1,
   "metadata": {},
   "outputs": [],
   "source": [
    "import pyautogui\n",
    "import time"
   ]
  },
  {
   "cell_type": "markdown",
   "metadata": {},
   "source": [
    "오늘 사용할 패키지는 pyautogui입니다\n",
    "\n",
    "상당히 많은 자료가 인터넷에 있을 뿐더러<br>\n",
    "굉장히 편리하게 이용할 수 있는 입력값과 출력을 제공합니다\n",
    "\n",
    "향후에 간단하게 윈도우 자동화 프로그램을 만들고 싶을 때 굉장히 유용한 패키지입니다\n",
    "\n",
    "---\n",
    "\n",
    "그리고 오늘 프로그램도 저번 웹 크롤링 프로그램들과 마찬가지로<br>\n",
    "몇 초마다 무엇을 할거다! 라는 형식으로 진행하기 때문에<br>\n",
    "time 모듈을 불러와줍시다\n",
    "\n",
    "from time import sleep이 훨씬 더 가독성있겠지만...<br>\n",
    "워낙 간단한 프로그램이기에 pass!"
   ]
  },
  {
   "cell_type": "code",
   "execution_count": 3,
   "metadata": {},
   "outputs": [
    {
     "ename": "KeyboardInterrupt",
     "evalue": "",
     "output_type": "error",
     "traceback": [
      "\u001b[1;31m---------------------------------------------------------------------------\u001b[0m",
      "\u001b[1;31mKeyboardInterrupt\u001b[0m                         Traceback (most recent call last)",
      "\u001b[1;32m<ipython-input-3-afec962501dd>\u001b[0m in \u001b[0;36m<module>\u001b[1;34m\u001b[0m\n\u001b[0;32m      1\u001b[0m \u001b[1;32mfor\u001b[0m \u001b[0mi\u001b[0m \u001b[1;32min\u001b[0m \u001b[0mrange\u001b[0m\u001b[1;33m(\u001b[0m\u001b[1;36m0\u001b[0m\u001b[1;33m,\u001b[0m\u001b[1;36m1000\u001b[0m\u001b[1;33m)\u001b[0m\u001b[1;33m:\u001b[0m\u001b[1;33m\u001b[0m\u001b[1;33m\u001b[0m\u001b[0m\n\u001b[0;32m      2\u001b[0m     \u001b[0mpyautogui\u001b[0m\u001b[1;33m.\u001b[0m\u001b[0mpress\u001b[0m\u001b[1;33m(\u001b[0m\u001b[1;34m' '\u001b[0m\u001b[1;33m)\u001b[0m\u001b[1;33m\u001b[0m\u001b[1;33m\u001b[0m\u001b[0m\n\u001b[1;32m----> 3\u001b[1;33m     \u001b[0mtime\u001b[0m\u001b[1;33m.\u001b[0m\u001b[0msleep\u001b[0m\u001b[1;33m(\u001b[0m\u001b[1;36m1\u001b[0m\u001b[1;33m)\u001b[0m\u001b[1;33m\u001b[0m\u001b[1;33m\u001b[0m\u001b[0m\n\u001b[0m",
      "\u001b[1;31mKeyboardInterrupt\u001b[0m: "
     ]
    }
   ],
   "source": [
    "for i in range(0,1000):\n",
    "    pyautogui.press(' ')\n",
    "    time.sleep(1)  "
   ]
  },
  {
   "cell_type": "markdown",
   "metadata": {},
   "source": [
    "사용자에게 전리품 상자 갯수를 입력해서 정확하게 몇 개만 깔거다!<br>\n",
    "라는 형식으로도 진행할 수 있겠지만 이런 아주 간단한 프로그램에서는 사족이 아닐까 생각이 듭니다\n",
    "\n",
    "그래서 for문을 이용해서 1000번정도만 반복실행할 수 있게 합니다\n",
    "\n",
    "제가 계산해보니까 스페이스바를 누르고 전리품 상자가 띄워질 때까지가 약 1.5초 ~ 2초 가량 걸리고<br>\n",
    "다시 스페이스 바를 눌러서 다음 전리품 상자가 툭 나올때 까지 1초 ~ 1.5초 가량 걸립니다\n",
    "\n",
    "---\n",
    "\n",
    "뭐 일일히 계산할 필요 없이 일단은 1초 가량에서 시간이 왔다갔다하니까<br>\n",
    "우리는 간단하게 1초마다 스페이스바를 누르도록 하겠습니다\n",
    "\n",
    "여기까지 타이핑 하시고 실행해보시면 아무 입력창이나 커서를 두고 클릭하면<br>\n",
    "1초마다 스페이스바 = 공백이 입력되는 것을 보실 수 있을거에요"
   ]
  },
  {
   "cell_type": "code",
   "execution_count": 5,
   "metadata": {},
   "outputs": [
    {
     "name": "stdout",
     "output_type": "stream",
     "text": [
      "**************************************************\n",
      "오버워치 전리품 상자깡 프로그램 v0.1\n",
      "**************************************************\n",
      "스페이스바를 0번 눌렀습니다 - 두둥탁!\n",
      "\n",
      "스페이스바를 1번 눌렀습니다 - 두둥탁!\n",
      "\n",
      "스페이스바를 2번 눌렀습니다 - 두둥탁!\n",
      "\n",
      "스페이스바를 3번 눌렀습니다 - 두둥탁!\n",
      "\n"
     ]
    },
    {
     "ename": "KeyboardInterrupt",
     "evalue": "",
     "output_type": "error",
     "traceback": [
      "\u001b[1;31m---------------------------------------------------------------------------\u001b[0m",
      "\u001b[1;31mKeyboardInterrupt\u001b[0m                         Traceback (most recent call last)",
      "\u001b[1;32m<ipython-input-5-507d46acedef>\u001b[0m in \u001b[0;36m<module>\u001b[1;34m\u001b[0m\n\u001b[0;32m      6\u001b[0m     \u001b[0mprint\u001b[0m\u001b[1;33m(\u001b[0m\u001b[1;34m'스페이스바를 {}번 눌렀습니다 - 두둥탁!\\n'\u001b[0m\u001b[1;33m.\u001b[0m\u001b[0mformat\u001b[0m\u001b[1;33m(\u001b[0m\u001b[0mi\u001b[0m\u001b[1;33m)\u001b[0m\u001b[1;33m)\u001b[0m\u001b[1;33m\u001b[0m\u001b[1;33m\u001b[0m\u001b[0m\n\u001b[0;32m      7\u001b[0m     \u001b[0mpyautogui\u001b[0m\u001b[1;33m.\u001b[0m\u001b[0mpress\u001b[0m\u001b[1;33m(\u001b[0m\u001b[1;34m' '\u001b[0m\u001b[1;33m)\u001b[0m\u001b[1;33m\u001b[0m\u001b[1;33m\u001b[0m\u001b[0m\n\u001b[1;32m----> 8\u001b[1;33m     \u001b[0mtime\u001b[0m\u001b[1;33m.\u001b[0m\u001b[0msleep\u001b[0m\u001b[1;33m(\u001b[0m\u001b[1;36m1\u001b[0m\u001b[1;33m)\u001b[0m\u001b[1;33m\u001b[0m\u001b[1;33m\u001b[0m\u001b[0m\n\u001b[0m",
      "\u001b[1;31mKeyboardInterrupt\u001b[0m: "
     ]
    }
   ],
   "source": [
    "import pyautogui\n",
    "import time\n",
    "\n",
    "print('*'*50 + \"\\n오버워치 전리품 상자깡 프로그램 v0.1\\n\" + '*'*50)\n",
    "for i in range(0,1000): \n",
    "    print('스페이스바를 {}번 눌렀습니다 - 두둥탁!\\n'.format(i))\n",
    "    pyautogui.press(' ')\n",
    "    time.sleep(1)  "
   ]
  },
  {
   "cell_type": "markdown",
   "metadata": {},
   "source": [
    "코딩을 하는 것은 코드의 간결함과 아름다움, 그리고 정확한 기능성도 중요하지만<br>\n",
    "사용자에게 현재 코드의 진행상황을 브리핑해주는 것도 굉장히 중요합니다\n",
    "\n",
    "그래서 전체 코드를 통합할 때 사용자가 현재 상태를 알 수 있도록<br>\n",
    "여러 시스템 메시지와 구분자를 삽입하였습니다\n",
    "\n",
    "---\n",
    "\n",
    "그리고 지금까지 워낙 귀찮고 제가 보기에는 복잡해보여서 쓰지않았던<br>\n",
    "print구문의 format 형식을 사용하였습니다 (공부는 항상 꾸준하게... 가리지 말고...)\n",
    "\n",
    "단일 변수로 출력할 때는 별로지만<br>\n",
    "후에 여러 변수들을 출력할 때는 굉장히 유용해 보입니다\n",
    "\n",
    "---\n",
    "\n",
    "단순한 스페이스바 클릭을 넘어서 셀레니움 패키지와 결합한다면<br>\n",
    "투표 예매 매크로라던가... 여러 프로그램으로의 발전이 기대됩니다만<br>\n",
    "아직까지는 별다르게 아이디어가 없으니 여기서 스톱하도록 하겠습니다\n",
    "\n",
    "또 재밌는 아이디어로 이렇게 프로그램을 만들 수 있으면 좋겠네요!\n",
    "\n",
    "---\n",
    "\n",
    "여기까지 오버워치 상자깡 프로그램을 만들어보자였습니다<br>\n",
    "감사합니다!"
   ]
  }
 ],
 "metadata": {
  "kernelspec": {
   "display_name": "Python 3",
   "language": "python",
   "name": "python3"
  },
  "language_info": {
   "codemirror_mode": {
    "name": "ipython",
    "version": 3
   },
   "file_extension": ".py",
   "mimetype": "text/x-python",
   "name": "python",
   "nbconvert_exporter": "python",
   "pygments_lexer": "ipython3",
   "version": "3.8.5"
  }
 },
 "nbformat": 4,
 "nbformat_minor": 4
}
